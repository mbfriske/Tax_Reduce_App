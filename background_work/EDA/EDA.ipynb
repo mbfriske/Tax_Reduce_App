{
 "cells": [
  {
   "cell_type": "code",
   "execution_count": 18,
   "metadata": {},
   "outputs": [],
   "source": [
    "# install this library if you do not already have it\n",
    "# ! pip install psycopg2-binary"
   ]
  },
  {
   "cell_type": "code",
   "execution_count": 14,
   "metadata": {},
   "outputs": [],
   "source": [
    "import psycopg2\n",
    "import config as creds"
   ]
  },
  {
   "cell_type": "code",
   "execution_count": 16,
   "metadata": {},
   "outputs": [],
   "source": [
    "def connect():\n",
    "    \n",
    "    # Set up a connection to the postgres server.\n",
    "    conn_string = \"host=\"+ creds.PGHOST +\" port=\"+ \"5432\" +\" dbname=\"+ creds.PGDATABASE +\" user=\" + creds.PGUSER \\\n",
    "                  +\" password=\"+ creds.PGPASSWORD\n",
    "    \n",
    "    conn = psycopg2.connect(conn_string)\n",
    "    print(\"Connected!\")\n",
    "\n",
    "    # Create a cursor object\n",
    "    cursor = conn.cursor()\n",
    "    \n",
    "    return conn, cursor"
   ]
  },
  {
   "cell_type": "code",
   "execution_count": 19,
   "metadata": {},
   "outputs": [],
   "source": [
    "# # Connecting to DB\n",
    "# conn, cursor = connect()\n",
    "\n",
    "# # SQL command to create inventory table\n",
    "# create_table = \"\"\"\n",
    "#     CREATE TABLE IF NOT EXISTS inventory(\n",
    "#         index INTEGER,\n",
    "#         id TEXT PRIMARY KEY NOT NULL,\n",
    "#         category TEXT,\n",
    "#         image TEXT,\n",
    "#         displayName TEXT,\n",
    "#         urlHistory TEXT\n",
    "#     )\n",
    "#     \"\"\"\n",
    "\n",
    "# # Execute SQL Command and commit to DB\n",
    "# cursor.execute(create_table)\n",
    "# conn.commit()\n",
    "\n",
    "# Disconnect from DB\n",
    "# disconnect(conn, cursor)"
   ]
  },
  {
   "cell_type": "code",
   "execution_count": null,
   "metadata": {},
   "outputs": [],
   "source": []
  }
 ],
 "metadata": {
  "kernelspec": {
   "display_name": "Python 3",
   "language": "python",
   "name": "python3"
  },
  "language_info": {
   "codemirror_mode": {
    "name": "ipython",
    "version": 3
   },
   "file_extension": ".py",
   "mimetype": "text/x-python",
   "name": "python",
   "nbconvert_exporter": "python",
   "pygments_lexer": "ipython3",
   "version": "3.7.3"
  }
 },
 "nbformat": 4,
 "nbformat_minor": 2
}
